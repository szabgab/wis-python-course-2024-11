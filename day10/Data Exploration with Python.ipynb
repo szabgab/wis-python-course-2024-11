{
 "cells": [
  {
   "cell_type": "markdown",
   "metadata": {},
   "source": [
    "# <font color='cyan'> Data Exploration with Python"
   ]
  },
  {
   "cell_type": "markdown",
   "metadata": {},
   "source": [
    "### Dataset Overview Type 2 Diabetes (T2D)"
   ]
  },
  {
   "cell_type": "markdown",
   "metadata": {},
   "source": [
    "Type 2 Diabetes (T2D) is a chronic metabolic condition that affects how your body processes blood sugar (glucose). Unlike Type 1 Diabetes, where the body doesn't produce insulin, people with T2D either do not produce enough insulin or their cells become resistant to insulin. This results in high blood sugar levels, which can lead to serious health complications over time."
   ]
  },
  {
   "cell_type": "code",
   "execution_count": null,
   "metadata": {},
   "outputs": [],
   "source": [
    "# Importing the necessary libraries for data exploration\n",
    "import pandas as pd          # For data manipulation and analysis\n",
    "import numpy as np           # For numerical computations and array operations\n",
    "import matplotlib.pyplot as plt  # For creating static visualizations (plots)\n",
    "import seaborn as sns        # For statistical data visualization, built on top of Matplotlib\n",
    "from scipy.stats import pearsonr  # For statistical analysis (Pearson correlation)\n",
    "\n"
   ]
  },
  {
   "cell_type": "code",
   "execution_count": null,
   "metadata": {},
   "outputs": [],
   "source": [
    "data = pd.read_csv('/Users/hadarklimovski/Desktop/T2D_dataset_final.csv').set_index('PatientID')"
   ]
  },
  {
   "cell_type": "code",
   "execution_count": null,
   "metadata": {},
   "outputs": [],
   "source": [
    "data.head()"
   ]
  },
  {
   "cell_type": "code",
   "execution_count": null,
   "metadata": {},
   "outputs": [],
   "source": [
    "data.describe()"
   ]
  },
  {
   "cell_type": "code",
   "execution_count": null,
   "metadata": {},
   "outputs": [],
   "source": [
    "data.shape"
   ]
  },
  {
   "cell_type": "markdown",
   "metadata": {},
   "source": [
    "### **Distributions with histograms(matplotlib.pyplot)**"
   ]
  },
  {
   "cell_type": "markdown",
   "metadata": {},
   "source": [
    "A histogram is a graphical representation of the distribution of a numerical dataset. It is used to visualize the frequency of data points within different intervals or bins. In a histogram, the x-axis represents the range of values (e.g., age, height, or BMI), and the y-axis shows how many times each range or bin appears in the data."
   ]
  },
  {
   "cell_type": "code",
   "execution_count": null,
   "metadata": {},
   "outputs": [],
   "source": [
    "\n",
    "# Generate a histogram for BMI\n",
    "plt.figure(figsize=(8, 6))\n",
    "plt.hist(data['BMI'], bins=10, color='lightblue', edgecolor='black')  # Create histogram\n",
    "plt.title('Distribution of BMI', size = 20)  # Title of the plot\n",
    "plt.xlabel('BMI', size = 20)  # Label for the x-axis\n",
    "plt.ylabel('Frequency', size = 20)  # Label for the y-axis\n",
    "plt.show()  # Display the plot\n",
    "\n"
   ]
  },
  {
   "cell_type": "code",
   "execution_count": null,
   "metadata": {},
   "outputs": [],
   "source": [
    "\n",
    "# Generate a histogram for Blood_Glucose\n",
    "plt.figure(figsize=(8, 6))\n",
    "plt.hist(data['Blood_Glucose'], bins=15, color='lightpink', edgecolor='black')  # Create histogram\n",
    "plt.title('Distribution of Blood_Glucose', size = 20)  # Title of the plot\n",
    "plt.xlabel('Blood_Glucose', size = 20)  # Label for the x-axis\n",
    "plt.ylabel('Frequency', size = 20)  # Label for the y-axis\n",
    "plt.show()  # Display the plot\n"
   ]
  },
  {
   "cell_type": "markdown",
   "metadata": {},
   "source": [
    "### **Pearson correlation(scipy)**"
   ]
  },
  {
   "cell_type": "markdown",
   "metadata": {},
   "source": [
    "Pearson Correlation is a statistical measure that quantifies the linear relationship between two continuous variables. It tells us how strongly the two variables are related and whether the relationship is positive or negative."
   ]
  },
  {
   "cell_type": "code",
   "execution_count": null,
   "metadata": {},
   "outputs": [],
   "source": [
    "from scipy.stats import pearsonr\n",
    "\n",
    "correlation, p_value = pearsonr(data['BMI'], data['Cholesterol_Level'])\n",
    "print(f'Correlation: {correlation}, P-value: {p_value}')\n"
   ]
  },
  {
   "cell_type": "code",
   "execution_count": null,
   "metadata": {},
   "outputs": [],
   "source": [
    "plt.scatter(data['BMI'], data['Cholesterol_Level'], alpha=0.5)\n",
    "plt.title('BMI vs Cholesterol Level')\n",
    "plt.xlabel('BMI')\n",
    "plt.ylabel('Cholesterol_Level')\n",
    "plt.show()\n"
   ]
  },
  {
   "cell_type": "markdown",
   "metadata": {},
   "source": [
    "### **Correlation Matrix**"
   ]
  },
  {
   "cell_type": "markdown",
   "metadata": {},
   "source": [
    "A correlation matrix is a table that shows the correlation coefficients between multiple variables in a dataset. Each cell in the table displays the correlation between two variables. The values in the matrix typically range from -1 to 1, indicating the strength and direction of the relationship between the variables."
   ]
  },
  {
   "cell_type": "code",
   "execution_count": null,
   "metadata": {},
   "outputs": [],
   "source": [
    "\n",
    "# Calculate the correlation matrix\n",
    "corr_matrix = data.corr()\n",
    "\n",
    "# Visualize the correlation matrix using Seaborn\n",
    "plt.figure(figsize=(8, 6))\n",
    "sns.heatmap(corr_matrix, annot=True, cmap='coolwarm', fmt=\".2f\")\n",
    "plt.title('Correlation Matrix')\n",
    "plt.show()\n"
   ]
  },
  {
   "cell_type": "markdown",
   "metadata": {},
   "source": [
    "### **Independent T-test (SciPy)**\n",
    "\n",
    "An **Independent T-test** is used to determine whether there is a significant difference between the **means** of two independent groups. These groups are not related in any way.\n",
    "### Key Concepts\n",
    "\n",
    "- **Null Hypothesis (H₀)**: The means of the two groups are equal (i.e., no significant difference).\n",
    "- **Alternative Hypothesis (H₁)**: The means of the two groups are not equal (i.e., a significant difference).\n",
    "  \n",
    "### T-statistic:\n",
    "The T-statistic quantifies how much the group means differ relative to the variability (spread) within the groups.\n",
    "\n",
    "### P-value:\n",
    "- **P-value < 0.05**: There is a **significant difference** between the groups.\n",
    "- **P-value ≥ 0.05**: There is **no significant difference** between the groups.\n",
    "\n",
    "\n",
    "```python\n"
   ]
  },
  {
   "cell_type": "markdown",
   "metadata": {},
   "source": [
    "### Comparing Blood Glucose levels between **male** and **female** groups:"
   ]
  },
  {
   "cell_type": "code",
   "execution_count": null,
   "metadata": {},
   "outputs": [],
   "source": [
    "male_data = data[data['Gender (Male=0, Female=1)'] == 0]\n",
    "female_data = data[data['Gender (Male=0, Female=1)'] == 1]"
   ]
  },
  {
   "cell_type": "code",
   "execution_count": null,
   "metadata": {},
   "outputs": [],
   "source": [
    "male_data.shape,female_data.shape"
   ]
  },
  {
   "cell_type": "code",
   "execution_count": null,
   "metadata": {},
   "outputs": [],
   "source": [
    "male_data_glu = male_data['Blood_Glucose']\n",
    "female_data_glu = female_data['Blood_Glucose']"
   ]
  },
  {
   "cell_type": "code",
   "execution_count": null,
   "metadata": {},
   "outputs": [],
   "source": [
    "from scipy.stats import ttest_ind\n",
    "# Perform the t-test\n",
    "t_stat, p_value = ttest_ind(male_data_glu, female_data_glu)\n",
    "\n",
    "# Print the t-statistic and p-value\n",
    "print(f\"T-statistic: {t_stat}, P-value: {p_value}\")\n",
    "\n"
   ]
  },
  {
   "cell_type": "code",
   "execution_count": null,
   "metadata": {},
   "outputs": [],
   "source": [
    "\n",
    "plt.figure(figsize=(6, 4))\n",
    "sns.boxplot(\n",
    "    x=data['Gender (Male=0, Female=1)'], \n",
    "    y=data['Blood_Glucose'], \n",
    "    width=0.3  \n",
    ")\n",
    "plt.title('Blood Glucose Comparison between Male and Female', fontsize=14)\n",
    "plt.xlabel('Gender (male=0, female=1)', fontsize=12)\n",
    "plt.ylabel('Blood Glucose', fontsize=12)\n",
    "plt.tight_layout()\n",
    "plt.show()\n"
   ]
  },
  {
   "cell_type": "markdown",
   "metadata": {},
   "source": [
    "### Comparing Blood Glucose levels between **healthy** and **sick** groups:"
   ]
  },
  {
   "cell_type": "code",
   "execution_count": null,
   "metadata": {},
   "outputs": [],
   "source": [
    "sick_data = data[data['Disease Status (Healthy=0, T2D=1)'] == 1]\n",
    "healthy_data = data[data['Disease Status (Healthy=0, T2D=1)'] == 0]"
   ]
  },
  {
   "cell_type": "code",
   "execution_count": null,
   "metadata": {},
   "outputs": [],
   "source": [
    "sick_data.shape,healthy_data.shape"
   ]
  },
  {
   "cell_type": "code",
   "execution_count": null,
   "metadata": {},
   "outputs": [],
   "source": [
    "sick_data_glu = sick_data['Blood_Glucose']\n",
    "healthy_data_glu = healthy_data['Blood_Glucose']"
   ]
  },
  {
   "cell_type": "code",
   "execution_count": null,
   "metadata": {},
   "outputs": [],
   "source": [
    "# Perform the t-test\n",
    "t_stat, p_value = ttest_ind(sick_data_glu, healthy_data_glu)\n",
    "\n",
    "# Print the t-statistic and p-value\n",
    "print(f\"T-statistic: {t_stat}, P-value: {p_value}\")\n"
   ]
  },
  {
   "cell_type": "code",
   "execution_count": null,
   "metadata": {},
   "outputs": [],
   "source": [
    "# Map disease status labels for the x-axis\n",
    "disease_labels = ['Healthy', 'T2D']\n",
    "\n",
    "# Create the box plot with white boxes\n",
    "plt.figure(figsize=(8, 6))\n",
    "sns.boxplot(\n",
    "    x=data['Disease Status (Healthy=0, T2D=1)'], \n",
    "    y=data['Blood_Glucose'], \n",
    "    width=0.5, \n",
    "    boxprops=dict(facecolor='steelblue', edgecolor='black'),\n",
    "    medianprops=dict(color=\"black\")\n",
    ")\n",
    "\n",
    "# Replace 0 and 1 with 'Healthy' and 'T2D'\n",
    "plt.xticks(ticks=[0, 1], labels=disease_labels, fontsize=12)\n",
    "\n",
    "# Add titles and labels\n",
    "plt.title('Blood Glucose Comparison between Healthy and Diseased Patients', fontsize=14, fontweight='bold')\n",
    "plt.xlabel('Disease Status', fontsize=12)\n",
    "plt.ylabel('Blood Glucose Level', fontsize=12)\n",
    "\n",
    "# Add significance asterisks above the boxes\n",
    "x1, x2 = 0, 1  # Positions for the boxes\n",
    "y, h, col = data['Blood_Glucose'].max() + 10, 10, 'black'  # Height and color of the line\n",
    "plt.plot([x1, x1, x2, x2], [y, y + h, y + h, y], lw=1.5, color=col)\n",
    "plt.text((x1 + x2) * .5, y + h + 2, f\"p = {p_value:.3f}\", ha='center', va='bottom', color=col, fontsize=12)\n",
    "\n",
    "# Adjust layout and show the plot\n",
    "plt.tight_layout()\n",
    "plt.show()\n"
   ]
  },
  {
   "cell_type": "markdown",
   "metadata": {},
   "source": [
    "# <font color = pink> class exercise\n"
   ]
  },
  {
   "cell_type": "markdown",
   "metadata": {},
   "source": [
    "1. Plot a histogram of glucose levels. What can you infer from it?"
   ]
  },
  {
   "cell_type": "code",
   "execution_count": null,
   "metadata": {},
   "outputs": [],
   "source": [
    "#write your code here"
   ]
  },
  {
   "cell_type": "markdown",
   "metadata": {},
   "source": [
    "2. Check the Pearson correlation between age and sleep duration and plot it."
   ]
  },
  {
   "cell_type": "code",
   "execution_count": null,
   "metadata": {},
   "outputs": [],
   "source": [
    "#write your code here"
   ]
  },
  {
   "cell_type": "markdown",
   "metadata": {},
   "source": [
    "3. Perform a t-test to check if there are any statistical differences in BMI between sick and healthy individuals, and plot a box plot. Is there are significant differences ?"
   ]
  },
  {
   "cell_type": "code",
   "execution_count": null,
   "metadata": {},
   "outputs": [],
   "source": [
    "#write your code here"
   ]
  }
 ],
 "metadata": {
  "kernelspec": {
   "display_name": "py3.7",
   "language": "python",
   "name": "python3"
  },
  "language_info": {
   "codemirror_mode": {
    "name": "ipython",
    "version": 3
   },
   "file_extension": ".py",
   "mimetype": "text/x-python",
   "name": "python",
   "nbconvert_exporter": "python",
   "pygments_lexer": "ipython3",
   "version": "3.12.4"
  }
 },
 "nbformat": 4,
 "nbformat_minor": 2
}

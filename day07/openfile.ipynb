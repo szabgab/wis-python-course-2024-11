{
 "cells": [
  {
   "cell_type": "code",
   "execution_count": 1,
   "id": "231b0362-f4b9-469f-bd41-6a832614f864",
   "metadata": {},
   "outputs": [
    {
     "name": "stdout",
     "output_type": "stream",
     "text": [
      "Requirement already satisfied: ipyfilechooser in /home/gabor/venv/lib/python3.12/site-packages (0.6.0)\n",
      "Requirement already satisfied: ipywidgets in /home/gabor/venv/lib/python3.12/site-packages (from ipyfilechooser) (8.1.2)\n",
      "Requirement already satisfied: comm>=0.1.3 in /home/gabor/venv/lib/python3.12/site-packages (from ipywidgets->ipyfilechooser) (0.2.2)\n",
      "Requirement already satisfied: ipython>=6.1.0 in /home/gabor/venv/lib/python3.12/site-packages (from ipywidgets->ipyfilechooser) (8.24.0)\n",
      "Requirement already satisfied: traitlets>=4.3.1 in /home/gabor/venv/lib/python3.12/site-packages (from ipywidgets->ipyfilechooser) (5.14.3)\n",
      "Requirement already satisfied: widgetsnbextension~=4.0.10 in /home/gabor/venv/lib/python3.12/site-packages (from ipywidgets->ipyfilechooser) (4.0.10)\n",
      "Requirement already satisfied: jupyterlab-widgets~=3.0.10 in /home/gabor/venv/lib/python3.12/site-packages (from ipywidgets->ipyfilechooser) (3.0.10)\n",
      "Requirement already satisfied: decorator in /home/gabor/venv/lib/python3.12/site-packages (from ipython>=6.1.0->ipywidgets->ipyfilechooser) (5.1.1)\n",
      "Requirement already satisfied: jedi>=0.16 in /home/gabor/venv/lib/python3.12/site-packages (from ipython>=6.1.0->ipywidgets->ipyfilechooser) (0.19.1)\n",
      "Requirement already satisfied: matplotlib-inline in /home/gabor/venv/lib/python3.12/site-packages (from ipython>=6.1.0->ipywidgets->ipyfilechooser) (0.1.7)\n",
      "Requirement already satisfied: prompt-toolkit<3.1.0,>=3.0.41 in /home/gabor/venv/lib/python3.12/site-packages (from ipython>=6.1.0->ipywidgets->ipyfilechooser) (3.0.43)\n",
      "Requirement already satisfied: pygments>=2.4.0 in /home/gabor/venv/lib/python3.12/site-packages (from ipython>=6.1.0->ipywidgets->ipyfilechooser) (2.18.0)\n",
      "Requirement already satisfied: stack-data in /home/gabor/venv/lib/python3.12/site-packages (from ipython>=6.1.0->ipywidgets->ipyfilechooser) (0.6.3)\n",
      "Requirement already satisfied: pexpect>4.3 in /home/gabor/venv/lib/python3.12/site-packages (from ipython>=6.1.0->ipywidgets->ipyfilechooser) (4.9.0)\n",
      "Requirement already satisfied: parso<0.9.0,>=0.8.3 in /home/gabor/venv/lib/python3.12/site-packages (from jedi>=0.16->ipython>=6.1.0->ipywidgets->ipyfilechooser) (0.8.4)\n",
      "Requirement already satisfied: ptyprocess>=0.5 in /home/gabor/venv/lib/python3.12/site-packages (from pexpect>4.3->ipython>=6.1.0->ipywidgets->ipyfilechooser) (0.7.0)\n",
      "Requirement already satisfied: wcwidth in /home/gabor/venv/lib/python3.12/site-packages (from prompt-toolkit<3.1.0,>=3.0.41->ipython>=6.1.0->ipywidgets->ipyfilechooser) (0.2.13)\n",
      "Requirement already satisfied: executing>=1.2.0 in /home/gabor/venv/lib/python3.12/site-packages (from stack-data->ipython>=6.1.0->ipywidgets->ipyfilechooser) (2.0.1)\n",
      "Requirement already satisfied: asttokens>=2.1.0 in /home/gabor/venv/lib/python3.12/site-packages (from stack-data->ipython>=6.1.0->ipywidgets->ipyfilechooser) (2.4.1)\n",
      "Requirement already satisfied: pure-eval in /home/gabor/venv/lib/python3.12/site-packages (from stack-data->ipython>=6.1.0->ipywidgets->ipyfilechooser) (0.2.2)\n",
      "Requirement already satisfied: six>=1.12.0 in /home/gabor/venv/lib/python3.12/site-packages (from asttokens>=2.1.0->stack-data->ipython>=6.1.0->ipywidgets->ipyfilechooser) (1.16.0)\n"
     ]
    }
   ],
   "source": [
    "!pip install ipyfilechooser"
   ]
  },
  {
   "cell_type": "code",
   "execution_count": 5,
   "id": "7572b030-300f-4793-99f8-a30b028cf52b",
   "metadata": {},
   "outputs": [
    {
     "data": {
      "application/vnd.jupyter.widget-view+json": {
       "model_id": "bce4b29e97f245e8945c9da98dd4d342",
       "version_major": 2,
       "version_minor": 0
      },
      "text/plain": [
       "FileChooser(path='/home/gabor/work/wis-python-course-2024-11', filename='', title='', show_hidden=False, selec…"
      ]
     },
     "metadata": {},
     "output_type": "display_data"
    }
   ],
   "source": [
    "from ipyfilechooser import FileChooser\n",
    "\n",
    "fc = FileChooser()\n",
    "display(fc)"
   ]
  }
 ],
 "metadata": {
  "kernelspec": {
   "display_name": "Python 3 (ipykernel)",
   "language": "python",
   "name": "python3"
  },
  "language_info": {
   "codemirror_mode": {
    "name": "ipython",
    "version": 3
   },
   "file_extension": ".py",
   "mimetype": "text/x-python",
   "name": "python",
   "nbconvert_exporter": "python",
   "pygments_lexer": "ipython3",
   "version": "3.12.7"
  }
 },
 "nbformat": 4,
 "nbformat_minor": 5
}

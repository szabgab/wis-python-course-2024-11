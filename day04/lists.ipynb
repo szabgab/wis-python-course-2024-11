{
 "cells": [
  {
   "cell_type": "code",
   "execution_count": 22,
   "id": "8d712920-38d5-439f-9a45-f00db0b3f2ee",
   "metadata": {},
   "outputs": [],
   "source": [
    "numbers = [2, 3, 7, 0, -2]"
   ]
  },
  {
   "cell_type": "code",
   "execution_count": 2,
   "id": "e2b8fd7b-d335-4508-b519-b65178d7000b",
   "metadata": {},
   "outputs": [
    {
     "name": "stdout",
     "output_type": "stream",
     "text": [
      "[2, 3, 7, 0, -2]\n"
     ]
    }
   ],
   "source": [
    "print(numbers)"
   ]
  },
  {
   "cell_type": "code",
   "execution_count": 3,
   "id": "de86d912-c8f4-47c1-a454-bfa6c30d24ca",
   "metadata": {},
   "outputs": [
    {
     "data": {
      "text/plain": [
       "[2, 3, 7, 0, -2, 2, 3, 7, 0, -2]"
      ]
     },
     "execution_count": 3,
     "metadata": {},
     "output_type": "execute_result"
    }
   ],
   "source": [
    "numbers * 2"
   ]
  },
  {
   "cell_type": "code",
   "execution_count": 4,
   "id": "84869ade-bea5-4ec7-94b5-42683b18ebab",
   "metadata": {},
   "outputs": [
    {
     "name": "stdout",
     "output_type": "stream",
     "text": [
      "4\n",
      "6\n",
      "14\n",
      "0\n",
      "-4\n"
     ]
    }
   ],
   "source": [
    "for number in numbers:\n",
    "    print(number*2)"
   ]
  },
  {
   "cell_type": "code",
   "execution_count": 5,
   "id": "062b3ab6-7416-4e51-b16c-0279c5664faa",
   "metadata": {},
   "outputs": [
    {
     "data": {
      "text/plain": [
       "[4, 6, 14, 0, -4]"
      ]
     },
     "execution_count": 5,
     "metadata": {},
     "output_type": "execute_result"
    }
   ],
   "source": [
    "doubles = []\n",
    "for number in numbers:\n",
    "    doubles.append(number*2)\n",
    "doubles"
   ]
  },
  {
   "cell_type": "code",
   "execution_count": 6,
   "id": "c4a4462b-b002-4e1d-bab2-f1f8e5599e5c",
   "metadata": {},
   "outputs": [],
   "source": [
    "def make_double(values):\n",
    "    dbls = []\n",
    "    for value in values:\n",
    "        dbls.append(value*2)\n",
    "    return dbls\n",
    "    "
   ]
  },
  {
   "cell_type": "code",
   "execution_count": 7,
   "id": "3a2ecc6a-5919-458f-95a2-eb11654b7634",
   "metadata": {},
   "outputs": [
    {
     "data": {
      "text/plain": [
       "[6, 8, 18]"
      ]
     },
     "execution_count": 7,
     "metadata": {},
     "output_type": "execute_result"
    }
   ],
   "source": [
    "qqrq = make_double([3, 4, 9])\n",
    "qqrq"
   ]
  },
  {
   "cell_type": "code",
   "execution_count": 8,
   "id": "8497ac30-8c56-42f5-beda-ada01c334e62",
   "metadata": {},
   "outputs": [],
   "source": [
    "import helper"
   ]
  },
  {
   "cell_type": "code",
   "execution_count": 9,
   "id": "776db0e0-46a1-4454-8948-dfd8dee88b2a",
   "metadata": {},
   "outputs": [
    {
     "data": {
      "text/plain": [
       "[6, 12, 2]"
      ]
     },
     "execution_count": 9,
     "metadata": {},
     "output_type": "execute_result"
    }
   ],
   "source": [
    "helper.create_double([3, 6, 1])"
   ]
  },
  {
   "cell_type": "code",
   "execution_count": 10,
   "id": "000d49da-708e-4a16-94ce-cdb5a2ff1264",
   "metadata": {},
   "outputs": [
    {
     "name": "stdout",
     "output_type": "stream",
     "text": [
      "Hello foo\n"
     ]
    }
   ],
   "source": [
    "helper.hello(\"foo\")"
   ]
  },
  {
   "cell_type": "code",
   "execution_count": 11,
   "id": "b0b5312d-ad42-4d75-9055-58a32f081933",
   "metadata": {},
   "outputs": [],
   "source": [
    "from helper import create_double"
   ]
  },
  {
   "cell_type": "code",
   "execution_count": 12,
   "id": "976acda7-7b47-4def-b050-f8bc33da916a",
   "metadata": {},
   "outputs": [
    {
     "data": {
      "text/plain": [
       "[6, 16]"
      ]
     },
     "execution_count": 12,
     "metadata": {},
     "output_type": "execute_result"
    }
   ],
   "source": [
    "create_double([3, 8])"
   ]
  },
  {
   "cell_type": "code",
   "execution_count": 13,
   "id": "7e3bf281-b22d-41e1-a2e0-7bb91e2f4a5b",
   "metadata": {},
   "outputs": [
    {
     "name": "stdout",
     "output_type": "stream",
     "text": [
      "Requirement already satisfied: jupyter-tabnine in /home/gabor/venv/lib/python3.12/site-packages (1.2.3)\n",
      "Requirement already satisfied: ipython in /home/gabor/venv/lib/python3.12/site-packages (from jupyter-tabnine) (8.24.0)\n",
      "Requirement already satisfied: jupyter-core in /home/gabor/venv/lib/python3.12/site-packages (from jupyter-tabnine) (5.7.2)\n",
      "Requirement already satisfied: nbconvert in /home/gabor/venv/lib/python3.12/site-packages (from jupyter-tabnine) (7.16.4)\n",
      "Requirement already satisfied: notebook>=4.2 in /home/gabor/venv/lib/python3.12/site-packages (from jupyter-tabnine) (7.1.3)\n",
      "Requirement already satisfied: jupyter-server<3,>=2.4.0 in /home/gabor/venv/lib/python3.12/site-packages (from notebook>=4.2->jupyter-tabnine) (2.14.0)\n",
      "Requirement already satisfied: jupyterlab-server<3,>=2.22.1 in /home/gabor/venv/lib/python3.12/site-packages (from notebook>=4.2->jupyter-tabnine) (2.27.1)\n",
      "Requirement already satisfied: jupyterlab<4.2,>=4.1.1 in /home/gabor/venv/lib/python3.12/site-packages (from notebook>=4.2->jupyter-tabnine) (4.1.8)\n",
      "Requirement already satisfied: notebook-shim<0.3,>=0.2 in /home/gabor/venv/lib/python3.12/site-packages (from notebook>=4.2->jupyter-tabnine) (0.2.4)\n",
      "Requirement already satisfied: tornado>=6.2.0 in /home/gabor/venv/lib/python3.12/site-packages (from notebook>=4.2->jupyter-tabnine) (6.4)\n",
      "Requirement already satisfied: decorator in /home/gabor/venv/lib/python3.12/site-packages (from ipython->jupyter-tabnine) (5.1.1)\n",
      "Requirement already satisfied: jedi>=0.16 in /home/gabor/venv/lib/python3.12/site-packages (from ipython->jupyter-tabnine) (0.19.1)\n",
      "Requirement already satisfied: matplotlib-inline in /home/gabor/venv/lib/python3.12/site-packages (from ipython->jupyter-tabnine) (0.1.7)\n",
      "Requirement already satisfied: prompt-toolkit<3.1.0,>=3.0.41 in /home/gabor/venv/lib/python3.12/site-packages (from ipython->jupyter-tabnine) (3.0.43)\n",
      "Requirement already satisfied: pygments>=2.4.0 in /home/gabor/venv/lib/python3.12/site-packages (from ipython->jupyter-tabnine) (2.18.0)\n",
      "Requirement already satisfied: stack-data in /home/gabor/venv/lib/python3.12/site-packages (from ipython->jupyter-tabnine) (0.6.3)\n",
      "Requirement already satisfied: traitlets>=5.13.0 in /home/gabor/venv/lib/python3.12/site-packages (from ipython->jupyter-tabnine) (5.14.3)\n",
      "Requirement already satisfied: pexpect>4.3 in /home/gabor/venv/lib/python3.12/site-packages (from ipython->jupyter-tabnine) (4.9.0)\n",
      "Requirement already satisfied: platformdirs>=2.5 in /home/gabor/venv/lib/python3.12/site-packages (from jupyter-core->jupyter-tabnine) (4.2.2)\n",
      "Requirement already satisfied: beautifulsoup4 in /home/gabor/venv/lib/python3.12/site-packages (from nbconvert->jupyter-tabnine) (4.12.3)\n",
      "Requirement already satisfied: bleach!=5.0.0 in /home/gabor/venv/lib/python3.12/site-packages (from nbconvert->jupyter-tabnine) (6.1.0)\n",
      "Requirement already satisfied: defusedxml in /home/gabor/venv/lib/python3.12/site-packages (from nbconvert->jupyter-tabnine) (0.7.1)\n",
      "Requirement already satisfied: jinja2>=3.0 in /home/gabor/venv/lib/python3.12/site-packages (from nbconvert->jupyter-tabnine) (3.1.4)\n",
      "Requirement already satisfied: jupyterlab-pygments in /home/gabor/venv/lib/python3.12/site-packages (from nbconvert->jupyter-tabnine) (0.3.0)\n",
      "Requirement already satisfied: markupsafe>=2.0 in /home/gabor/venv/lib/python3.12/site-packages (from nbconvert->jupyter-tabnine) (2.1.5)\n",
      "Requirement already satisfied: mistune<4,>=2.0.3 in /home/gabor/venv/lib/python3.12/site-packages (from nbconvert->jupyter-tabnine) (3.0.2)\n",
      "Requirement already satisfied: nbclient>=0.5.0 in /home/gabor/venv/lib/python3.12/site-packages (from nbconvert->jupyter-tabnine) (0.10.0)\n",
      "Requirement already satisfied: nbformat>=5.7 in /home/gabor/venv/lib/python3.12/site-packages (from nbconvert->jupyter-tabnine) (5.10.4)\n",
      "Requirement already satisfied: packaging in /home/gabor/venv/lib/python3.12/site-packages (from nbconvert->jupyter-tabnine) (24.0)\n",
      "Requirement already satisfied: pandocfilters>=1.4.1 in /home/gabor/venv/lib/python3.12/site-packages (from nbconvert->jupyter-tabnine) (1.5.1)\n",
      "Requirement already satisfied: tinycss2 in /home/gabor/venv/lib/python3.12/site-packages (from nbconvert->jupyter-tabnine) (1.3.0)\n",
      "Requirement already satisfied: six>=1.9.0 in /home/gabor/venv/lib/python3.12/site-packages (from bleach!=5.0.0->nbconvert->jupyter-tabnine) (1.16.0)\n",
      "Requirement already satisfied: webencodings in /home/gabor/venv/lib/python3.12/site-packages (from bleach!=5.0.0->nbconvert->jupyter-tabnine) (0.5.1)\n",
      "Requirement already satisfied: parso<0.9.0,>=0.8.3 in /home/gabor/venv/lib/python3.12/site-packages (from jedi>=0.16->ipython->jupyter-tabnine) (0.8.4)\n",
      "Requirement already satisfied: anyio>=3.1.0 in /home/gabor/venv/lib/python3.12/site-packages (from jupyter-server<3,>=2.4.0->notebook>=4.2->jupyter-tabnine) (4.3.0)\n",
      "Requirement already satisfied: argon2-cffi>=21.1 in /home/gabor/venv/lib/python3.12/site-packages (from jupyter-server<3,>=2.4.0->notebook>=4.2->jupyter-tabnine) (23.1.0)\n",
      "Requirement already satisfied: jupyter-client>=7.4.4 in /home/gabor/venv/lib/python3.12/site-packages (from jupyter-server<3,>=2.4.0->notebook>=4.2->jupyter-tabnine) (8.6.1)\n",
      "Requirement already satisfied: jupyter-events>=0.9.0 in /home/gabor/venv/lib/python3.12/site-packages (from jupyter-server<3,>=2.4.0->notebook>=4.2->jupyter-tabnine) (0.10.0)\n",
      "Requirement already satisfied: jupyter-server-terminals>=0.4.4 in /home/gabor/venv/lib/python3.12/site-packages (from jupyter-server<3,>=2.4.0->notebook>=4.2->jupyter-tabnine) (0.5.3)\n",
      "Requirement already satisfied: overrides>=5.0 in /home/gabor/venv/lib/python3.12/site-packages (from jupyter-server<3,>=2.4.0->notebook>=4.2->jupyter-tabnine) (7.7.0)\n",
      "Requirement already satisfied: prometheus-client>=0.9 in /home/gabor/venv/lib/python3.12/site-packages (from jupyter-server<3,>=2.4.0->notebook>=4.2->jupyter-tabnine) (0.20.0)\n",
      "Requirement already satisfied: pyzmq>=24 in /home/gabor/venv/lib/python3.12/site-packages (from jupyter-server<3,>=2.4.0->notebook>=4.2->jupyter-tabnine) (26.0.3)\n",
      "Requirement already satisfied: send2trash>=1.8.2 in /home/gabor/venv/lib/python3.12/site-packages (from jupyter-server<3,>=2.4.0->notebook>=4.2->jupyter-tabnine) (1.8.3)\n",
      "Requirement already satisfied: terminado>=0.8.3 in /home/gabor/venv/lib/python3.12/site-packages (from jupyter-server<3,>=2.4.0->notebook>=4.2->jupyter-tabnine) (0.18.1)\n",
      "Requirement already satisfied: websocket-client>=1.7 in /home/gabor/venv/lib/python3.12/site-packages (from jupyter-server<3,>=2.4.0->notebook>=4.2->jupyter-tabnine) (1.8.0)\n",
      "Requirement already satisfied: async-lru>=1.0.0 in /home/gabor/venv/lib/python3.12/site-packages (from jupyterlab<4.2,>=4.1.1->notebook>=4.2->jupyter-tabnine) (2.0.4)\n",
      "Requirement already satisfied: httpx>=0.25.0 in /home/gabor/venv/lib/python3.12/site-packages (from jupyterlab<4.2,>=4.1.1->notebook>=4.2->jupyter-tabnine) (0.27.0)\n",
      "Requirement already satisfied: ipykernel>=6.5.0 in /home/gabor/venv/lib/python3.12/site-packages (from jupyterlab<4.2,>=4.1.1->notebook>=4.2->jupyter-tabnine) (6.29.4)\n",
      "Requirement already satisfied: jupyter-lsp>=2.0.0 in /home/gabor/venv/lib/python3.12/site-packages (from jupyterlab<4.2,>=4.1.1->notebook>=4.2->jupyter-tabnine) (2.2.5)\n",
      "Requirement already satisfied: babel>=2.10 in /home/gabor/venv/lib/python3.12/site-packages (from jupyterlab-server<3,>=2.22.1->notebook>=4.2->jupyter-tabnine) (2.15.0)\n",
      "Requirement already satisfied: json5>=0.9.0 in /home/gabor/venv/lib/python3.12/site-packages (from jupyterlab-server<3,>=2.22.1->notebook>=4.2->jupyter-tabnine) (0.9.25)\n",
      "Requirement already satisfied: jsonschema>=4.18.0 in /home/gabor/venv/lib/python3.12/site-packages (from jupyterlab-server<3,>=2.22.1->notebook>=4.2->jupyter-tabnine) (4.22.0)\n",
      "Requirement already satisfied: requests>=2.31 in /home/gabor/venv/lib/python3.12/site-packages (from jupyterlab-server<3,>=2.22.1->notebook>=4.2->jupyter-tabnine) (2.31.0)\n",
      "Requirement already satisfied: fastjsonschema>=2.15 in /home/gabor/venv/lib/python3.12/site-packages (from nbformat>=5.7->nbconvert->jupyter-tabnine) (2.19.1)\n",
      "Requirement already satisfied: ptyprocess>=0.5 in /home/gabor/venv/lib/python3.12/site-packages (from pexpect>4.3->ipython->jupyter-tabnine) (0.7.0)\n",
      "Requirement already satisfied: wcwidth in /home/gabor/venv/lib/python3.12/site-packages (from prompt-toolkit<3.1.0,>=3.0.41->ipython->jupyter-tabnine) (0.2.13)\n",
      "Requirement already satisfied: soupsieve>1.2 in /home/gabor/venv/lib/python3.12/site-packages (from beautifulsoup4->nbconvert->jupyter-tabnine) (2.5)\n",
      "Requirement already satisfied: executing>=1.2.0 in /home/gabor/venv/lib/python3.12/site-packages (from stack-data->ipython->jupyter-tabnine) (2.0.1)\n",
      "Requirement already satisfied: asttokens>=2.1.0 in /home/gabor/venv/lib/python3.12/site-packages (from stack-data->ipython->jupyter-tabnine) (2.4.1)\n",
      "Requirement already satisfied: pure-eval in /home/gabor/venv/lib/python3.12/site-packages (from stack-data->ipython->jupyter-tabnine) (0.2.2)\n",
      "Requirement already satisfied: idna>=2.8 in /home/gabor/venv/lib/python3.12/site-packages (from anyio>=3.1.0->jupyter-server<3,>=2.4.0->notebook>=4.2->jupyter-tabnine) (3.7)\n",
      "Requirement already satisfied: sniffio>=1.1 in /home/gabor/venv/lib/python3.12/site-packages (from anyio>=3.1.0->jupyter-server<3,>=2.4.0->notebook>=4.2->jupyter-tabnine) (1.3.1)\n",
      "Requirement already satisfied: argon2-cffi-bindings in /home/gabor/venv/lib/python3.12/site-packages (from argon2-cffi>=21.1->jupyter-server<3,>=2.4.0->notebook>=4.2->jupyter-tabnine) (21.2.0)\n",
      "Requirement already satisfied: certifi in /home/gabor/venv/lib/python3.12/site-packages (from httpx>=0.25.0->jupyterlab<4.2,>=4.1.1->notebook>=4.2->jupyter-tabnine) (2024.2.2)\n",
      "Requirement already satisfied: httpcore==1.* in /home/gabor/venv/lib/python3.12/site-packages (from httpx>=0.25.0->jupyterlab<4.2,>=4.1.1->notebook>=4.2->jupyter-tabnine) (1.0.5)\n",
      "Requirement already satisfied: h11<0.15,>=0.13 in /home/gabor/venv/lib/python3.12/site-packages (from httpcore==1.*->httpx>=0.25.0->jupyterlab<4.2,>=4.1.1->notebook>=4.2->jupyter-tabnine) (0.14.0)\n",
      "Requirement already satisfied: comm>=0.1.1 in /home/gabor/venv/lib/python3.12/site-packages (from ipykernel>=6.5.0->jupyterlab<4.2,>=4.1.1->notebook>=4.2->jupyter-tabnine) (0.2.2)\n",
      "Requirement already satisfied: debugpy>=1.6.5 in /home/gabor/venv/lib/python3.12/site-packages (from ipykernel>=6.5.0->jupyterlab<4.2,>=4.1.1->notebook>=4.2->jupyter-tabnine) (1.8.1)\n",
      "Requirement already satisfied: nest-asyncio in /home/gabor/venv/lib/python3.12/site-packages (from ipykernel>=6.5.0->jupyterlab<4.2,>=4.1.1->notebook>=4.2->jupyter-tabnine) (1.6.0)\n",
      "Requirement already satisfied: psutil in /home/gabor/venv/lib/python3.12/site-packages (from ipykernel>=6.5.0->jupyterlab<4.2,>=4.1.1->notebook>=4.2->jupyter-tabnine) (5.9.8)\n",
      "Requirement already satisfied: attrs>=22.2.0 in /home/gabor/venv/lib/python3.12/site-packages (from jsonschema>=4.18.0->jupyterlab-server<3,>=2.22.1->notebook>=4.2->jupyter-tabnine) (23.2.0)\n",
      "Requirement already satisfied: jsonschema-specifications>=2023.03.6 in /home/gabor/venv/lib/python3.12/site-packages (from jsonschema>=4.18.0->jupyterlab-server<3,>=2.22.1->notebook>=4.2->jupyter-tabnine) (2023.12.1)\n",
      "Requirement already satisfied: referencing>=0.28.4 in /home/gabor/venv/lib/python3.12/site-packages (from jsonschema>=4.18.0->jupyterlab-server<3,>=2.22.1->notebook>=4.2->jupyter-tabnine) (0.35.1)\n",
      "Requirement already satisfied: rpds-py>=0.7.1 in /home/gabor/venv/lib/python3.12/site-packages (from jsonschema>=4.18.0->jupyterlab-server<3,>=2.22.1->notebook>=4.2->jupyter-tabnine) (0.18.1)\n",
      "Requirement already satisfied: python-dateutil>=2.8.2 in /home/gabor/venv/lib/python3.12/site-packages (from jupyter-client>=7.4.4->jupyter-server<3,>=2.4.0->notebook>=4.2->jupyter-tabnine) (2.9.0.post0)\n",
      "Requirement already satisfied: python-json-logger>=2.0.4 in /home/gabor/venv/lib/python3.12/site-packages (from jupyter-events>=0.9.0->jupyter-server<3,>=2.4.0->notebook>=4.2->jupyter-tabnine) (2.0.7)\n",
      "Requirement already satisfied: pyyaml>=5.3 in /home/gabor/venv/lib/python3.12/site-packages (from jupyter-events>=0.9.0->jupyter-server<3,>=2.4.0->notebook>=4.2->jupyter-tabnine) (6.0.1)\n",
      "Requirement already satisfied: rfc3339-validator in /home/gabor/venv/lib/python3.12/site-packages (from jupyter-events>=0.9.0->jupyter-server<3,>=2.4.0->notebook>=4.2->jupyter-tabnine) (0.1.4)\n",
      "Requirement already satisfied: rfc3986-validator>=0.1.1 in /home/gabor/venv/lib/python3.12/site-packages (from jupyter-events>=0.9.0->jupyter-server<3,>=2.4.0->notebook>=4.2->jupyter-tabnine) (0.1.1)\n",
      "Requirement already satisfied: charset-normalizer<4,>=2 in /home/gabor/venv/lib/python3.12/site-packages (from requests>=2.31->jupyterlab-server<3,>=2.22.1->notebook>=4.2->jupyter-tabnine) (3.3.2)\n",
      "Requirement already satisfied: urllib3<3,>=1.21.1 in /home/gabor/venv/lib/python3.12/site-packages (from requests>=2.31->jupyterlab-server<3,>=2.22.1->notebook>=4.2->jupyter-tabnine) (2.2.1)\n",
      "Requirement already satisfied: fqdn in /home/gabor/venv/lib/python3.12/site-packages (from jsonschema[format-nongpl]>=4.18.0->jupyter-events>=0.9.0->jupyter-server<3,>=2.4.0->notebook>=4.2->jupyter-tabnine) (1.5.1)\n",
      "Requirement already satisfied: isoduration in /home/gabor/venv/lib/python3.12/site-packages (from jsonschema[format-nongpl]>=4.18.0->jupyter-events>=0.9.0->jupyter-server<3,>=2.4.0->notebook>=4.2->jupyter-tabnine) (20.11.0)\n",
      "Requirement already satisfied: jsonpointer>1.13 in /home/gabor/venv/lib/python3.12/site-packages (from jsonschema[format-nongpl]>=4.18.0->jupyter-events>=0.9.0->jupyter-server<3,>=2.4.0->notebook>=4.2->jupyter-tabnine) (2.4)\n",
      "Requirement already satisfied: uri-template in /home/gabor/venv/lib/python3.12/site-packages (from jsonschema[format-nongpl]>=4.18.0->jupyter-events>=0.9.0->jupyter-server<3,>=2.4.0->notebook>=4.2->jupyter-tabnine) (1.3.0)\n",
      "Requirement already satisfied: webcolors>=1.11 in /home/gabor/venv/lib/python3.12/site-packages (from jsonschema[format-nongpl]>=4.18.0->jupyter-events>=0.9.0->jupyter-server<3,>=2.4.0->notebook>=4.2->jupyter-tabnine) (1.13)\n",
      "Requirement already satisfied: cffi>=1.0.1 in /home/gabor/venv/lib/python3.12/site-packages (from argon2-cffi-bindings->argon2-cffi>=21.1->jupyter-server<3,>=2.4.0->notebook>=4.2->jupyter-tabnine) (1.16.0)\n",
      "Requirement already satisfied: pycparser in /home/gabor/venv/lib/python3.12/site-packages (from cffi>=1.0.1->argon2-cffi-bindings->argon2-cffi>=21.1->jupyter-server<3,>=2.4.0->notebook>=4.2->jupyter-tabnine) (2.22)\n",
      "Requirement already satisfied: arrow>=0.15.0 in /home/gabor/venv/lib/python3.12/site-packages (from isoduration->jsonschema[format-nongpl]>=4.18.0->jupyter-events>=0.9.0->jupyter-server<3,>=2.4.0->notebook>=4.2->jupyter-tabnine) (1.3.0)\n",
      "Requirement already satisfied: types-python-dateutil>=2.8.10 in /home/gabor/venv/lib/python3.12/site-packages (from arrow>=0.15.0->isoduration->jsonschema[format-nongpl]>=4.18.0->jupyter-events>=0.9.0->jupyter-server<3,>=2.4.0->notebook>=4.2->jupyter-tabnine) (2.9.0.20240316)\n"
     ]
    }
   ],
   "source": [
    "!pip install jupyter-tabnine"
   ]
  },
  {
   "cell_type": "code",
   "execution_count": 17,
   "id": "d08c8801-8105-4792-80e4-1f9b7ae6b722",
   "metadata": {},
   "outputs": [
    {
     "name": "stdout",
     "output_type": "stream",
     "text": [
      "4\n",
      "6\n",
      "14\n",
      "0\n",
      "-4\n"
     ]
    }
   ],
   "source": [
    "dbl = map(lambda num: num* 2, numbers)\n",
    "dbl\n",
    "for val in dbl:\n",
    "    print(val)"
   ]
  },
  {
   "cell_type": "code",
   "execution_count": 21,
   "id": "ceda284b-75d3-437f-ac1e-aac5ae3c2e5c",
   "metadata": {},
   "outputs": [
    {
     "data": {
      "text/plain": [
       "[3, 4, 5, 6, 7, 8, 9, 10]"
      ]
     },
     "execution_count": 21,
     "metadata": {},
     "output_type": "execute_result"
    }
   ],
   "source": [
    "list_of_numbers = list(range(3, 11))\n",
    "list_of_numbers"
   ]
  },
  {
   "cell_type": "code",
   "execution_count": 25,
   "id": "e3b40abb-8c35-4f40-a47b-d8e0cd11362c",
   "metadata": {},
   "outputs": [
    {
     "data": {
      "text/plain": [
       "[2, 3, 7, 0, -2]"
      ]
     },
     "execution_count": 25,
     "metadata": {},
     "output_type": "execute_result"
    }
   ],
   "source": [
    "numbers"
   ]
  },
  {
   "cell_type": "code",
   "execution_count": 24,
   "id": "0043e956-08e9-4440-91c5-4cff3b52b916",
   "metadata": {},
   "outputs": [
    {
     "name": "stdout",
     "output_type": "stream",
     "text": [
      "2\n",
      "3\n",
      "7\n",
      "0\n",
      "-2\n"
     ]
    }
   ],
   "source": [
    "for num in numbers:\n",
    "    print(num)"
   ]
  },
  {
   "cell_type": "code",
   "execution_count": 27,
   "id": "12946822-b153-4382-944e-c0c94afe59a1",
   "metadata": {},
   "outputs": [
    {
     "name": "stdout",
     "output_type": "stream",
     "text": [
      "2\n",
      "3\n",
      "7\n",
      "0\n",
      "-2\n"
     ]
    }
   ],
   "source": [
    "for i in [0, 1, 2, 3, 4]:\n",
    "    print(numbers[i])"
   ]
  },
  {
   "cell_type": "code",
   "execution_count": 29,
   "id": "7421f11d-ec9b-438d-9994-c9f3d0a60b6b",
   "metadata": {},
   "outputs": [
    {
     "name": "stdout",
     "output_type": "stream",
     "text": [
      "2\n",
      "3\n",
      "7\n",
      "0\n",
      "-2\n"
     ]
    }
   ],
   "source": [
    "for i in range(0, len(numbers)):\n",
    "    print(numbers[i])"
   ]
  },
  {
   "cell_type": "code",
   "execution_count": 30,
   "id": "037e1d2e-6116-4664-965c-5c7c841e2cd3",
   "metadata": {},
   "outputs": [
    {
     "name": "stdout",
     "output_type": "stream",
     "text": [
      "2\n",
      "3\n",
      "7\n",
      "0\n",
      "-2\n"
     ]
    }
   ],
   "source": [
    "for i in range(len(numbers)):\n",
    "    print(numbers[i])"
   ]
  },
  {
   "cell_type": "code",
   "execution_count": 46,
   "id": "40d63d2b-82ef-46f8-9155-81aa8e1754e4",
   "metadata": {},
   "outputs": [
    {
     "data": {
      "text/plain": [
       "[2, 3, 4, 7, 8, 9]"
      ]
     },
     "execution_count": 46,
     "metadata": {},
     "output_type": "execute_result"
    }
   ],
   "source": [
    "a = [2, 3, 4]\n",
    "b = [7, 8, 9]\n",
    "a+b"
   ]
  },
  {
   "cell_type": "code",
   "execution_count": 41,
   "id": "92b25f35-bf57-441f-a6c8-15ffcfd5b94c",
   "metadata": {},
   "outputs": [
    {
     "data": {
      "text/plain": [
       "[9, 11, 13]"
      ]
     },
     "execution_count": 41,
     "metadata": {},
     "output_type": "execute_result"
    }
   ],
   "source": [
    "sums = []\n",
    "for i in range(len(a)):\n",
    "    sums.append(a[i] + b[i])\n",
    "sums"
   ]
  },
  {
   "cell_type": "code",
   "execution_count": 42,
   "id": "2ab10fc3-2ef6-4721-bb4f-157fc47d8c71",
   "metadata": {},
   "outputs": [
    {
     "name": "stdout",
     "output_type": "stream",
     "text": [
      "9\n",
      "11\n",
      "13\n"
     ]
    }
   ],
   "source": [
    "for (x, y) in zip(a, b):\n",
    "    print(x+y)"
   ]
  },
  {
   "cell_type": "code",
   "execution_count": 49,
   "id": "d7eaa5c8-9cb6-437f-ae5d-8998378f5b90",
   "metadata": {},
   "outputs": [
    {
     "data": {
      "text/plain": [
       "[9, 11, 13]"
      ]
     },
     "execution_count": 49,
     "metadata": {},
     "output_type": "execute_result"
    }
   ],
   "source": [
    "sums2 = list(map(lambda t: t[0]+t[1], zip(a,b)))\n",
    "sums2"
   ]
  },
  {
   "cell_type": "code",
   "execution_count": 50,
   "id": "35d78d03-3f30-4b78-a4e2-1350dd0de076",
   "metadata": {},
   "outputs": [
    {
     "data": {
      "text/plain": [
       "[2, 3, 7, 0, -2]"
      ]
     },
     "execution_count": 50,
     "metadata": {},
     "output_type": "execute_result"
    }
   ],
   "source": [
    "numbers"
   ]
  },
  {
   "cell_type": "code",
   "execution_count": 52,
   "id": "cef1aac5-301b-4d28-993b-ae2f56a8bc7f",
   "metadata": {},
   "outputs": [
    {
     "name": "stdout",
     "output_type": "stream",
     "text": [
      "50.0\n",
      "33.333333333333336\n",
      "14.285714285714286\n",
      "-50.0\n"
     ]
    }
   ],
   "source": [
    "for num in numbers:\n",
    "    if num != 0:\n",
    "        print(100/num)"
   ]
  },
  {
   "cell_type": "code",
   "execution_count": 53,
   "id": "e8f21fd0-c2d4-4768-bdea-4b949cad5125",
   "metadata": {},
   "outputs": [
    {
     "name": "stdout",
     "output_type": "stream",
     "text": [
      "50.0\n",
      "33.333333333333336\n",
      "14.285714285714286\n",
      "-50.0\n"
     ]
    }
   ],
   "source": [
    "for num in numbers:\n",
    "    if num == 0:\n",
    "        continue\n",
    "    print(100/num)"
   ]
  },
  {
   "cell_type": "code",
   "execution_count": 55,
   "id": "6bcb43d8-33d1-4852-a3c1-e2fe290c6838",
   "metadata": {},
   "outputs": [
    {
     "name": "stdout",
     "output_type": "stream",
     "text": [
      "50.0\n",
      "33.333333333333336\n",
      "14.285714285714286\n"
     ]
    }
   ],
   "source": [
    "for num in numbers:\n",
    "    if num == 0:\n",
    "        break\n",
    "    print(100/num)"
   ]
  },
  {
   "cell_type": "code",
   "execution_count": 56,
   "id": "8556c0a0-a6f4-4eab-b4d4-972f23c8ff9c",
   "metadata": {},
   "outputs": [],
   "source": [
    "import random"
   ]
  },
  {
   "cell_type": "code",
   "execution_count": 57,
   "id": "0d77ba92-dbca-4c31-9848-e4d69c275d23",
   "metadata": {},
   "outputs": [
    {
     "data": {
      "text/plain": [
       "0.5092732757087006"
      ]
     },
     "execution_count": 57,
     "metadata": {},
     "output_type": "execute_result"
    }
   ],
   "source": [
    "random.random()"
   ]
  },
  {
   "cell_type": "code",
   "execution_count": 58,
   "id": "4208be34-7505-44b9-b9fd-e6f8f140d4c8",
   "metadata": {},
   "outputs": [
    {
     "data": {
      "text/plain": [
       "61"
      ]
     },
     "execution_count": 58,
     "metadata": {},
     "output_type": "execute_result"
    }
   ],
   "source": [
    "random.randrange(2, 100)"
   ]
  }
 ],
 "metadata": {
  "kernelspec": {
   "display_name": "Python 3 (ipykernel)",
   "language": "python",
   "name": "python3"
  },
  "language_info": {
   "codemirror_mode": {
    "name": "ipython",
    "version": 3
   },
   "file_extension": ".py",
   "mimetype": "text/x-python",
   "name": "python",
   "nbconvert_exporter": "python",
   "pygments_lexer": "ipython3",
   "version": "3.12.7"
  }
 },
 "nbformat": 4,
 "nbformat_minor": 5
}

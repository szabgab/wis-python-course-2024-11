{
 "cells": [
  {
   "cell_type": "code",
   "execution_count": null,
   "id": "ddf66e56-878a-418e-9409-f40c2b83c94e",
   "metadata": {},
   "outputs": [],
   "source": [
    "def area(x, y):\n",
    "    result = x * y\n",
    "    return result"
   ]
  },
  {
   "cell_type": "code",
   "execution_count": null,
   "id": "d694b1a3-ac45-4746-8a99-9215e2de87ba",
   "metadata": {},
   "outputs": [],
   "source": [
    "width = 2\n",
    "height = 19"
   ]
  },
  {
   "cell_type": "code",
   "execution_count": null,
   "id": "61e8722e-c406-4759-b809-b8c3af5414bb",
   "metadata": {},
   "outputs": [],
   "source": [
    "area(width, height)"
   ]
  },
  {
   "cell_type": "code",
   "execution_count": null,
   "id": "2438ae25-293d-46ea-970f-ed18849baf67",
   "metadata": {},
   "outputs": [],
   "source": [
    "width = 3\n",
    "height = 7"
   ]
  },
  {
   "cell_type": "code",
   "execution_count": null,
   "id": "142a07d0-da58-466a-a439-1914f7a7374e",
   "metadata": {},
   "outputs": [],
   "source": [
    "area(width, height)"
   ]
  },
  {
   "cell_type": "code",
   "execution_count": null,
   "id": "019e75f8-ef28-49c9-a22e-4e0edaf1b45a",
   "metadata": {},
   "outputs": [],
   "source": [
    "area(5, 8)"
   ]
  },
  {
   "cell_type": "code",
   "execution_count": null,
   "id": "baa595f5-283c-4eea-a847-ccf881c3e2b4",
   "metadata": {},
   "outputs": [],
   "source": [
    "def calc(x, y):\n",
    "    (add, mul, sub, div) = x + y, x* y, x-y, x/y\n",
    "\n",
    "    return (add, mul, sub, div)"
   ]
  },
  {
   "cell_type": "code",
   "execution_count": null,
   "id": "cdb55e82-5c68-4e4c-91d1-ede7337dd33e",
   "metadata": {},
   "outputs": [],
   "source": [
    "(_, mul, _, div) = calc(2, 3)"
   ]
  },
  {
   "cell_type": "code",
   "execution_count": null,
   "id": "bf210638-36cc-4a43-a7e9-17f9bd0c43dc",
   "metadata": {},
   "outputs": [],
   "source": [
    "mul, div"
   ]
  }
 ],
 "metadata": {
  "kernelspec": {
   "display_name": "Python 3 (ipykernel)",
   "language": "python",
   "name": "python3"
  },
  "language_info": {
   "codemirror_mode": {
    "name": "ipython",
    "version": 3
   },
   "file_extension": ".py",
   "mimetype": "text/x-python",
   "name": "python",
   "nbconvert_exporter": "python",
   "pygments_lexer": "ipython3",
   "version": "3.12.7"
  }
 },
 "nbformat": 4,
 "nbformat_minor": 5
}
